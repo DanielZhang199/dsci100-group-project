{
 "cells": [
  {
   "cell_type": "markdown",
   "id": "dd4408b9-d21d-4916-93ae-59c76e0dd8f9",
   "metadata": {},
   "source": [
    "# Title"
   ]
  },
  {
   "cell_type": "markdown",
   "id": "d47185c6-3042-47c2-9c92-b985ef17ef1c",
   "metadata": {},
   "source": [
    "## Introduction\n"
   ]
  },
  {
   "cell_type": "markdown",
   "id": "43a0d417-bac6-4a87-a199-669053f23236",
   "metadata": {},
   "source": [
    "## Preliminary exploratory data analysis:\n",
    "\n"
   ]
  },
  {
   "cell_type": "code",
   "execution_count": 1,
   "id": "92ecf55f-2f14-4a6b-aab4-0763718ecea3",
   "metadata": {},
   "outputs": [
    {
     "name": "stderr",
     "output_type": "stream",
     "text": [
      "── \u001b[1mAttaching packages\u001b[22m ─────────────────────────────────────── tidyverse 1.3.1 ──\n",
      "\n",
      "\u001b[32m✔\u001b[39m \u001b[34mggplot2\u001b[39m 3.3.6     \u001b[32m✔\u001b[39m \u001b[34mpurrr  \u001b[39m 0.3.4\n",
      "\u001b[32m✔\u001b[39m \u001b[34mtibble \u001b[39m 3.1.7     \u001b[32m✔\u001b[39m \u001b[34mdplyr  \u001b[39m 1.0.9\n",
      "\u001b[32m✔\u001b[39m \u001b[34mtidyr  \u001b[39m 1.2.0     \u001b[32m✔\u001b[39m \u001b[34mstringr\u001b[39m 1.4.0\n",
      "\u001b[32m✔\u001b[39m \u001b[34mreadr  \u001b[39m 2.1.2     \u001b[32m✔\u001b[39m \u001b[34mforcats\u001b[39m 0.5.1\n",
      "\n",
      "── \u001b[1mConflicts\u001b[22m ────────────────────────────────────────── tidyverse_conflicts() ──\n",
      "\u001b[31m✖\u001b[39m \u001b[34mdplyr\u001b[39m::\u001b[32mfilter()\u001b[39m masks \u001b[34mstats\u001b[39m::filter()\n",
      "\u001b[31m✖\u001b[39m \u001b[34mdplyr\u001b[39m::\u001b[32mlag()\u001b[39m    masks \u001b[34mstats\u001b[39m::lag()\n",
      "\n",
      "── \u001b[1mAttaching packages\u001b[22m ────────────────────────────────────── tidymodels 1.0.0 ──\n",
      "\n",
      "\u001b[32m✔\u001b[39m \u001b[34mbroom       \u001b[39m 1.0.0     \u001b[32m✔\u001b[39m \u001b[34mrsample     \u001b[39m 1.0.0\n",
      "\u001b[32m✔\u001b[39m \u001b[34mdials       \u001b[39m 1.0.0     \u001b[32m✔\u001b[39m \u001b[34mtune        \u001b[39m 1.0.0\n",
      "\u001b[32m✔\u001b[39m \u001b[34minfer       \u001b[39m 1.0.2     \u001b[32m✔\u001b[39m \u001b[34mworkflows   \u001b[39m 1.0.0\n",
      "\u001b[32m✔\u001b[39m \u001b[34mmodeldata   \u001b[39m 1.0.0     \u001b[32m✔\u001b[39m \u001b[34mworkflowsets\u001b[39m 1.0.0\n",
      "\u001b[32m✔\u001b[39m \u001b[34mparsnip     \u001b[39m 1.0.0     \u001b[32m✔\u001b[39m \u001b[34myardstick   \u001b[39m 1.0.0\n",
      "\u001b[32m✔\u001b[39m \u001b[34mrecipes     \u001b[39m 1.0.1     \n",
      "\n",
      "── \u001b[1mConflicts\u001b[22m ───────────────────────────────────────── tidymodels_conflicts() ──\n",
      "\u001b[31m✖\u001b[39m \u001b[34mscales\u001b[39m::\u001b[32mdiscard()\u001b[39m masks \u001b[34mpurrr\u001b[39m::discard()\n",
      "\u001b[31m✖\u001b[39m \u001b[34mdplyr\u001b[39m::\u001b[32mfilter()\u001b[39m   masks \u001b[34mstats\u001b[39m::filter()\n",
      "\u001b[31m✖\u001b[39m \u001b[34mrecipes\u001b[39m::\u001b[32mfixed()\u001b[39m  masks \u001b[34mstringr\u001b[39m::fixed()\n",
      "\u001b[31m✖\u001b[39m \u001b[34mdplyr\u001b[39m::\u001b[32mlag()\u001b[39m      masks \u001b[34mstats\u001b[39m::lag()\n",
      "\u001b[31m✖\u001b[39m \u001b[34myardstick\u001b[39m::\u001b[32mspec()\u001b[39m masks \u001b[34mreadr\u001b[39m::spec()\n",
      "\u001b[31m✖\u001b[39m \u001b[34mrecipes\u001b[39m::\u001b[32mstep()\u001b[39m   masks \u001b[34mstats\u001b[39m::step()\n",
      "\u001b[34m•\u001b[39m Dig deeper into tidy modeling with R at \u001b[32mhttps://www.tmwr.org\u001b[39m\n",
      "\n",
      "Warning message in file(filename, \"r\", encoding = encoding):\n",
      "“cannot open file 'tests.R': No such file or directory”\n"
     ]
    },
    {
     "ename": "ERROR",
     "evalue": "Error in file(filename, \"r\", encoding = encoding): cannot open the connection\n",
     "output_type": "error",
     "traceback": [
      "Error in file(filename, \"r\", encoding = encoding): cannot open the connection\nTraceback:\n",
      "1. source(\"tests.R\")",
      "2. file(filename, \"r\", encoding = encoding)"
     ]
    }
   ],
   "source": [
    "library(tidyverse)\n",
    "library(repr)\n",
    "library(tidymodels)\n",
    "library('readxl')\n",
    "options(repr.matrix.max.rows = 6)\n",
    "source('tests.R')\n",
    "source('cleanup.R')"
   ]
  },
  {
   "cell_type": "code",
   "execution_count": 7,
   "id": "a0a6421f-11df-4499-8e87-b3c8340ce193",
   "metadata": {},
   "outputs": [
    {
     "name": "stderr",
     "output_type": "stream",
     "text": [
      "\u001b[1m\u001b[22mNew names:\n",
      "\u001b[36m•\u001b[39m `` -> `...2`\n"
     ]
    },
    {
     "data": {
      "text/html": [
       "<table class=\"dataframe\">\n",
       "<caption>A tibble: 12 × 3</caption>\n",
       "<thead>\n",
       "\t<tr><th scope=col>Data Set Characteristics: Multivariate</th><th scope=col>...2</th><th scope=col>Attribute Information:</th></tr>\n",
       "\t<tr><th scope=col>&lt;chr&gt;</th><th scope=col>&lt;lgl&gt;</th><th scope=col>&lt;chr&gt;</th></tr>\n",
       "</thead>\n",
       "<tbody>\n",
       "\t<tr><td>Number of Instances: 403       </td><td>NA</td><td>STG (The degree of study time for goal object materails),                  </td></tr>\n",
       "\t<tr><td>Area: Education                </td><td>NA</td><td>SCG (The degree of repetition number of user for goal object materails)    </td></tr>\n",
       "\t<tr><td>Attribute Characteristics: Real</td><td>NA</td><td>STR (The degree of study time of user for related objects with goal object)</td></tr>\n",
       "\t<tr><td>⋮</td><td>⋮</td><td>⋮</td></tr>\n",
       "\t<tr><td>Middle: 122</td><td>NA</td><td>NA</td></tr>\n",
       "\t<tr><td>high 130   </td><td>NA</td><td>NA</td></tr>\n",
       "\t<tr><td>Total:403  </td><td>NA</td><td>NA</td></tr>\n",
       "</tbody>\n",
       "</table>\n"
      ],
      "text/latex": [
       "A tibble: 12 × 3\n",
       "\\begin{tabular}{lll}\n",
       " Data Set Characteristics: Multivariate & ...2 & Attribute Information:\\\\\n",
       " <chr> & <lgl> & <chr>\\\\\n",
       "\\hline\n",
       "\t Number of Instances: 403        & NA & STG (The degree of study time for goal object materails),                  \\\\\n",
       "\t Area: Education                 & NA & SCG (The degree of repetition number of user for goal object materails)    \\\\\n",
       "\t Attribute Characteristics: Real & NA & STR (The degree of study time of user for related objects with goal object)\\\\\n",
       "\t ⋮ & ⋮ & ⋮\\\\\n",
       "\t Middle: 122 & NA & NA\\\\\n",
       "\t high 130    & NA & NA\\\\\n",
       "\t Total:403   & NA & NA\\\\\n",
       "\\end{tabular}\n"
      ],
      "text/markdown": [
       "\n",
       "A tibble: 12 × 3\n",
       "\n",
       "| Data Set Characteristics: Multivariate &lt;chr&gt; | ...2 &lt;lgl&gt; | Attribute Information: &lt;chr&gt; |\n",
       "|---|---|---|\n",
       "| Number of Instances: 403        | NA | STG (The degree of study time for goal object materails),                   |\n",
       "| Area: Education                 | NA | SCG (The degree of repetition number of user for goal object materails)     |\n",
       "| Attribute Characteristics: Real | NA | STR (The degree of study time of user for related objects with goal object) |\n",
       "| ⋮ | ⋮ | ⋮ |\n",
       "| Middle: 122 | NA | NA |\n",
       "| high 130    | NA | NA |\n",
       "| Total:403   | NA | NA |\n",
       "\n"
      ],
      "text/plain": [
       "   Data Set Characteristics: Multivariate ...2\n",
       "1  Number of Instances: 403               NA  \n",
       "2  Area: Education                        NA  \n",
       "3  Attribute Characteristics: Real        NA  \n",
       "⋮  ⋮                                      ⋮   \n",
       "10 Middle: 122                            NA  \n",
       "11 high 130                               NA  \n",
       "12 Total:403                              NA  \n",
       "   Attribute Information:                                                     \n",
       "1  STG (The degree of study time for goal object materails),                  \n",
       "2  SCG (The degree of repetition number of user for goal object materails)    \n",
       "3  STR (The degree of study time of user for related objects with goal object)\n",
       "⋮  ⋮                                                                          \n",
       "10 NA                                                                         \n",
       "11 NA                                                                         \n",
       "12 NA                                                                         "
      ]
     },
     "metadata": {},
     "output_type": "display_data"
    }
   ],
   "source": [
    "user_knowledge <- read_excel(path = \"Data_User_Modeling_Dataset_Hamdi.xls\")\n",
    "user_knowledge"
   ]
  },
  {
   "cell_type": "markdown",
   "id": "aa276f02-87f7-48b7-a271-ab895274c96f",
   "metadata": {},
   "source": [
    "## Methods:"
   ]
  },
  {
   "cell_type": "markdown",
   "id": "8283eaf3-3ed9-45db-85a3-3f73578b0c7a",
   "metadata": {},
   "source": [
    "## Expected outcomes and significance:"
   ]
  },
  {
   "cell_type": "code",
   "execution_count": null,
   "id": "0257e6cd-9ed2-4703-9102-2dac43850aa3",
   "metadata": {},
   "outputs": [],
   "source": []
  }
 ],
 "metadata": {
  "kernelspec": {
   "display_name": "R",
   "language": "R",
   "name": "ir"
  },
  "language_info": {
   "codemirror_mode": "r",
   "file_extension": ".r",
   "mimetype": "text/x-r-source",
   "name": "R",
   "pygments_lexer": "r",
   "version": "4.1.3"
  }
 },
 "nbformat": 4,
 "nbformat_minor": 5
}
