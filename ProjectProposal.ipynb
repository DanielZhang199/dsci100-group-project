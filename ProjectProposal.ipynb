{
 "cells": [
  {
   "cell_type": "markdown",
   "id": "dd4408b9-d21d-4916-93ae-59c76e0dd8f9",
   "metadata": {},
   "source": [
    "# Title"
   ]
  },
  {
   "cell_type": "markdown",
   "id": "d47185c6-3042-47c2-9c92-b985ef17ef1c",
   "metadata": {},
   "source": [
    "## Introduction\n"
   ]
  },
  {
   "cell_type": "markdown",
   "id": "43a0d417-bac6-4a87-a199-669053f23236",
   "metadata": {},
   "source": [
    "## Preliminary exploratory data analysis:\n",
    "\n"
   ]
  },
  {
   "cell_type": "code",
   "execution_count": 1,
   "id": "92ecf55f-2f14-4a6b-aab4-0763718ecea3",
   "metadata": {},
   "outputs": [
    {
     "name": "stderr",
     "output_type": "stream",
     "text": [
      "── \u001b[1mAttaching packages\u001b[22m ─────────────────────────────────────── tidyverse 1.3.1 ──\n",
      "\n",
      "\u001b[32m✔\u001b[39m \u001b[34mggplot2\u001b[39m 3.3.6     \u001b[32m✔\u001b[39m \u001b[34mpurrr  \u001b[39m 0.3.4\n",
      "\u001b[32m✔\u001b[39m \u001b[34mtibble \u001b[39m 3.1.7     \u001b[32m✔\u001b[39m \u001b[34mdplyr  \u001b[39m 1.0.9\n",
      "\u001b[32m✔\u001b[39m \u001b[34mtidyr  \u001b[39m 1.2.0     \u001b[32m✔\u001b[39m \u001b[34mstringr\u001b[39m 1.4.0\n",
      "\u001b[32m✔\u001b[39m \u001b[34mreadr  \u001b[39m 2.1.2     \u001b[32m✔\u001b[39m \u001b[34mforcats\u001b[39m 0.5.1\n",
      "\n",
      "── \u001b[1mConflicts\u001b[22m ────────────────────────────────────────── tidyverse_conflicts() ──\n",
      "\u001b[31m✖\u001b[39m \u001b[34mdplyr\u001b[39m::\u001b[32mfilter()\u001b[39m masks \u001b[34mstats\u001b[39m::filter()\n",
      "\u001b[31m✖\u001b[39m \u001b[34mdplyr\u001b[39m::\u001b[32mlag()\u001b[39m    masks \u001b[34mstats\u001b[39m::lag()\n",
      "\n",
      "── \u001b[1mAttaching packages\u001b[22m ────────────────────────────────────── tidymodels 1.0.0 ──\n",
      "\n",
      "\u001b[32m✔\u001b[39m \u001b[34mbroom       \u001b[39m 1.0.0     \u001b[32m✔\u001b[39m \u001b[34mrsample     \u001b[39m 1.0.0\n",
      "\u001b[32m✔\u001b[39m \u001b[34mdials       \u001b[39m 1.0.0     \u001b[32m✔\u001b[39m \u001b[34mtune        \u001b[39m 1.0.0\n",
      "\u001b[32m✔\u001b[39m \u001b[34minfer       \u001b[39m 1.0.2     \u001b[32m✔\u001b[39m \u001b[34mworkflows   \u001b[39m 1.0.0\n",
      "\u001b[32m✔\u001b[39m \u001b[34mmodeldata   \u001b[39m 1.0.0     \u001b[32m✔\u001b[39m \u001b[34mworkflowsets\u001b[39m 1.0.0\n",
      "\u001b[32m✔\u001b[39m \u001b[34mparsnip     \u001b[39m 1.0.0     \u001b[32m✔\u001b[39m \u001b[34myardstick   \u001b[39m 1.0.0\n",
      "\u001b[32m✔\u001b[39m \u001b[34mrecipes     \u001b[39m 1.0.1     \n",
      "\n",
      "── \u001b[1mConflicts\u001b[22m ───────────────────────────────────────── tidymodels_conflicts() ──\n",
      "\u001b[31m✖\u001b[39m \u001b[34mscales\u001b[39m::\u001b[32mdiscard()\u001b[39m masks \u001b[34mpurrr\u001b[39m::discard()\n",
      "\u001b[31m✖\u001b[39m \u001b[34mdplyr\u001b[39m::\u001b[32mfilter()\u001b[39m   masks \u001b[34mstats\u001b[39m::filter()\n",
      "\u001b[31m✖\u001b[39m \u001b[34mrecipes\u001b[39m::\u001b[32mfixed()\u001b[39m  masks \u001b[34mstringr\u001b[39m::fixed()\n",
      "\u001b[31m✖\u001b[39m \u001b[34mdplyr\u001b[39m::\u001b[32mlag()\u001b[39m      masks \u001b[34mstats\u001b[39m::lag()\n",
      "\u001b[31m✖\u001b[39m \u001b[34myardstick\u001b[39m::\u001b[32mspec()\u001b[39m masks \u001b[34mreadr\u001b[39m::spec()\n",
      "\u001b[31m✖\u001b[39m \u001b[34mrecipes\u001b[39m::\u001b[32mstep()\u001b[39m   masks \u001b[34mstats\u001b[39m::step()\n",
      "\u001b[34m•\u001b[39m Dig deeper into tidy modeling with R at \u001b[32mhttps://www.tmwr.org\u001b[39m\n",
      "\n",
      "Warning message in file(filename, \"r\", encoding = encoding):\n",
      "“cannot open file 'tests.R': No such file or directory”\n"
     ]
    },
    {
     "ename": "ERROR",
     "evalue": "Error in file(filename, \"r\", encoding = encoding): cannot open the connection\n",
     "output_type": "error",
     "traceback": [
      "Error in file(filename, \"r\", encoding = encoding): cannot open the connection\nTraceback:\n",
      "1. source(\"tests.R\")",
      "2. file(filename, \"r\", encoding = encoding)"
     ]
    }
   ],
   "source": [
    "library(tidyverse)\n",
    "library(repr)\n",
    "library(tidymodels)\n",
    "library('readxl')\n",
    "options(repr.matrix.max.rows = 6)\n",
    "source('tests.R')\n",
    "source('cleanup.R')\n"
   ]
  },
  {
   "cell_type": "code",
   "execution_count": null,
   "id": "a0a6421f-11df-4499-8e87-b3c8340ce193",
   "metadata": {},
   "outputs": [],
   "source": [
    "user_knowledge_training <- read_excel(path = \"Data_User_Modeling_Dataset_Hamdi.xls\",\n",
    "                            sheet = \"Training_Data\",\n",
    "                            range = cell_cols(\"A:F\"))\n",
    "user_knowledge_training\n",
    "\n",
    "#df <- read_xlsx(path = \"filename.xlsx\", sheet = \"sheetname\", range = cell_cols(\"A:G\"))"
   ]
  },
  {
   "cell_type": "code",
   "execution_count": null,
   "id": "8f7d8b4e-398a-4595-a896-41359a9617b4",
   "metadata": {},
   "outputs": [],
   "source": [
    "options(repr.plot.width = 10, repr.plot.height = 10)\n",
    "stg_vs_scg <- \n",
    "    ggplot(data = user_knowledge_training, aes(x = STG, y = SCG, color = UNS)) + \n",
    "        geom_point() +\n",
    "        labs (x = \"Degree of study time for goal object materials\", \n",
    "        y = \"Degree of repetition number of user for goal object materials\",\n",
    "             colour = \"Knowledge Level of User\")+\n",
    "        theme(text = element_text(size=20))\n",
    "stg_vs_scg\n",
    "\n",
    "stg_vs_str <- \n",
    "    ggplot(data = user_knowledge_training, aes(x = STG, y = STR , color = UNS)) + \n",
    "        geom_point() +\n",
    "        labs (x = \"Degree of study time for goal object materials\", \n",
    "        y = \"Degree of study time of user for related objects with goal object\",\n",
    "             colour = \"Knowledge Level of User\")+\n",
    "        theme(text = element_text(size=20))\n",
    "stg_vs_str\n",
    "\n",
    "stg_vs_lpr <- \n",
    "    ggplot(data = user_knowledge_training, aes(x = STG, y = LPR, color = UNS)) + \n",
    "        geom_point() +\n",
    "        labs (x = \"Degree of study time for goal object materials\", \n",
    "        y = \"Exam performance of user for related objects with goal object\",\n",
    "             colour = \"Knowledge Level of User\")+\n",
    "        theme(text = element_text(size=20))\n",
    "stg_vs_lpr\n",
    "\n",
    "stg_vs_peg <- \n",
    "    ggplot(data = user_knowledge_training, aes(x = STG, y = PEG, color = UNS)) + \n",
    "        geom_point() +\n",
    "        labs (x = \"Degree of study time for goal object materials\", \n",
    "        y = \"Exam performance of user for goal objects\",\n",
    "             colour = \"Knowledge Level of User\")+\n",
    "        theme(text = element_text(size=20))\n",
    "stg_vs_peg\n",
    "\n",
    "\n",
    "scg_vs_str <- \n",
    "    ggplot(data = user_knowledge_training, aes(x = SCG, y = STR , color = UNS)) + \n",
    "        geom_point() +\n",
    "        labs (x = \"Degree of repetition number of user for goal object materials\", \n",
    "        y = \"Degree of study time of user for related objects with goal object\",\n",
    "             colour = \"Knowledge Level of User\")+\n",
    "        theme(text = element_text(size=20))\n",
    "stg_vs_str\n",
    "\n",
    "scg_vs_lpr <- \n",
    "    ggplot(data = user_knowledge_training, aes(x = SCG, y = LPR, color = UNS)) + \n",
    "        geom_point() +\n",
    "        labs (x = \"Degree of repetition number of user for goal object materials\", \n",
    "        y = \"Exam performance of user for related objects with goal object\",\n",
    "             colour = \"Knowledge Level of User\")+\n",
    "        theme(text = element_text(size=20))\n",
    "scg_vs_lpr\n",
    "\n",
    "scg_vs_peg <- \n",
    "    ggplot(data = user_knowledge_training, aes(x = SCG, y = PEG, color = UNS)) + \n",
    "        geom_point() +\n",
    "        labs (x = \"Degree of repetition number of user for goal object materials\", \n",
    "        y = \"Exam performance of user for goal objects\",\n",
    "             colour = \"Knowledge Level of User\")+\n",
    "        theme(text = element_text(size=20))\n",
    "scg_vs_peg\n",
    "\n",
    "\n",
    "str_vs_lpr <- \n",
    "    ggplot(data = user_knowledge_training, aes(x = STR, y = LPR, color = UNS)) + \n",
    "        geom_point() +\n",
    "        labs (x =\"Degree of study time of user for related objects with goal object\", \n",
    "        y = \"Exam performance of user for related objects with goal object\",\n",
    "             colour = \"Knowledge Level of User\")+\n",
    "        theme(text = element_text(size=20))\n",
    "str_vs_lpr\n",
    "\n",
    "str_vs_peg <- \n",
    "    ggplot(data = user_knowledge_training, aes(x = STR, y = PEG, color = UNS)) + \n",
    "        geom_point() +\n",
    "        labs (x = \"Degree of study time of user for related objects with goal object\", \n",
    "        y = \"Exam performance of user for goal objects\",\n",
    "             colour = \"Knowledge Level of User\")+\n",
    "        theme(text = element_text(size=20))\n",
    "str_vs_peg\n",
    "\n",
    "lpr_vs_peg <- \n",
    "    ggplot(data = user_knowledge_training, aes(x = LPR, y = PEG, color = UNS)) + \n",
    "        geom_point() +\n",
    "        labs (x = \"Exam performance of user for related objects with goal object\", \n",
    "        y = \"Exam performance of user for goal objects\",\n",
    "             colour = \"Knowledge Level of User\")+\n",
    "        theme(text = element_text(size=20))\n",
    "lpr_vs_peg\n"
   ]
  },
  {
   "cell_type": "code",
   "execution_count": null,
   "id": "c6551ec7-5ff9-4f50-abf1-5fc5d51db064",
   "metadata": {},
   "outputs": [],
   "source": []
  },
  {
   "cell_type": "markdown",
   "id": "aa276f02-87f7-48b7-a271-ab895274c96f",
   "metadata": {},
   "source": [
    "## Methods:"
   ]
  },
  {
   "cell_type": "markdown",
   "id": "8283eaf3-3ed9-45db-85a3-3f73578b0c7a",
   "metadata": {},
   "source": [
    "## Expected outcomes and significance:"
   ]
  },
  {
   "cell_type": "code",
   "execution_count": null,
   "id": "0257e6cd-9ed2-4703-9102-2dac43850aa3",
   "metadata": {},
   "outputs": [],
   "source": []
  }
 ],
 "metadata": {
  "kernelspec": {
   "display_name": "R",
   "language": "R",
   "name": "ir"
  },
  "language_info": {
   "codemirror_mode": "r",
   "file_extension": ".r",
   "mimetype": "text/x-r-source",
   "name": "R",
   "pygments_lexer": "r",
   "version": "4.1.3"
  }
 },
 "nbformat": 4,
 "nbformat_minor": 5
}
