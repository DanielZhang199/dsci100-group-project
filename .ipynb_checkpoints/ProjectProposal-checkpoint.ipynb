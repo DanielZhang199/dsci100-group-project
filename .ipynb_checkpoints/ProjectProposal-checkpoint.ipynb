{
 "cells": [
  {
   "cell_type": "markdown",
   "id": "dd4408b9-d21d-4916-93ae-59c76e0dd8f9",
   "metadata": {},
   "source": [
    "# Title"
   ]
  },
  {
   "cell_type": "markdown",
   "id": "d47185c6-3042-47c2-9c92-b985ef17ef1c",
   "metadata": {},
   "source": [
    "## Introduction\n"
   ]
  },
  {
   "cell_type": "markdown",
   "id": "43a0d417-bac6-4a87-a199-669053f23236",
   "metadata": {},
   "source": [
    "## Preliminary exploratory data analysis:"
   ]
  },
  {
   "cell_type": "markdown",
   "id": "aa276f02-87f7-48b7-a271-ab895274c96f",
   "metadata": {},
   "source": [
    "## Methods:\n",
    "#### The data set has the following columns:\n",
    "- STG (The degree of study time for goal object materials), (input value)\n",
    "- SCG (The degree of repetition number of user for goal object materials), (input value)\n",
    "- STR (The degree of study time of user for related objects with goal object), (input value)\n",
    "- LPR (The exam performance of user for related objects with goal object), (input value)\n",
    "- PEG (The exam performance of user for goal objects), (input value)\n",
    "- UNS (The knowledge level of user), (target value)\n",
    "\n",
    "We will be using (insert attributes here) to classify our target value. We have decided on these two attributes as these two variables produce the most distinct boundaries between different knowledge level regions when plotted out on a scatter plot, as shown by the previous data analysis. We will only be using two attributes as it would be the easiest to visualize the results later on. \n",
    "\n",
    "Since we are limited to two variables to classify knowledge level, it will be easy to visualize the results on a 2d scatterplot diagram."
   ]
  },
  {
   "cell_type": "markdown",
   "id": "8283eaf3-3ed9-45db-85a3-3f73578b0c7a",
   "metadata": {},
   "source": [
    "## Expected outcomes and significance:\n",
    "- We expect to find that higher study time and better performace should be correlated with higher user knowledge level.\n",
    "- If we want to predict how competetent users will be based on exam performace and study time, a model will be able to classify any given user more easily than just having a human to interpret these values by hand.\n",
    "- Some questions that may be raised are whether or not study time and exam performance on related objects with goal object or just for goal object materials have an significant effect on how the impact user knowledge comapared to each other."
   ]
  },
  {
   "cell_type": "code",
   "execution_count": null,
   "id": "0257e6cd-9ed2-4703-9102-2dac43850aa3",
   "metadata": {},
   "outputs": [],
   "source": []
  }
 ],
 "metadata": {
  "kernelspec": {
   "display_name": "R",
   "language": "R",
   "name": "ir"
  },
  "language_info": {
   "codemirror_mode": "r",
   "file_extension": ".r",
   "mimetype": "text/x-r-source",
   "name": "R",
   "pygments_lexer": "r",
   "version": "4.1.3"
  }
 },
 "nbformat": 4,
 "nbformat_minor": 5
}
